{
 "cells": [
  {
   "cell_type": "code",
   "execution_count": 35,
   "metadata": {},
   "outputs": [],
   "source": [
    "import os\n",
    "import sys\n",
    "import pickle\n",
    "import random\n",
    "\n",
    "import numpy as np\n",
    "\n",
    "sys.path.append(\"/Users/blues/baidu/code/fin-analyze/\")\n",
    "\n",
    "current_path = os.getcwd()\n",
    "dataset_path = os.path.join(current_path, \"dataset_20200110/\")\n",
    "\n",
    "value_keys_filepath = os.path.join(dataset_path, \"value_keys.txt\")\n",
    "data_filepath = os.path.join(dataset_path, \"indust_price_combined_data_20200110.csv\")\n",
    "industry_filepath = os.path.join(dataset_path, \"industry_cate.txt\")"
   ]
  },
  {
   "cell_type": "code",
   "execution_count": 4,
   "metadata": {
    "scrolled": true
   },
   "outputs": [],
   "source": [
    "from fin.data_utils import data_handler"
   ]
  },
  {
   "cell_type": "code",
   "execution_count": 9,
   "metadata": {},
   "outputs": [
    {
     "name": "stderr",
     "output_type": "stream",
     "text": [
      "2020-05-13 11:41:40,253:INFO:data_handler.py:36:Load value keys from: /Users/blues/baidu/code/fin-analyze/notebooks/dataset_20200110/value_keys.txt\n",
      "WARNING: Logging before flag parsing goes to stderr.\n",
      "I0513 11:41:40.253689 4425498048 data_handler.py:36] Load value keys from: /Users/blues/baidu/code/fin-analyze/notebooks/dataset_20200110/value_keys.txt\n",
      "2020-05-13 11:41:40,256:INFO:data_handler.py:87:Load csv data from: /Users/blues/baidu/code/fin-analyze/notebooks/dataset_20200110/indust_price_combined_data_20200110.csv\n",
      "I0513 11:41:40.256389 4425498048 data_handler.py:87] Load csv data from: /Users/blues/baidu/code/fin-analyze/notebooks/dataset_20200110/indust_price_combined_data_20200110.csv\n"
     ]
    }
   ],
   "source": [
    "value_keys = data_handler.load_value_keys(value_keys_filepath)\n",
    "data, max_value, max_price = data_handler.load_csv_trace_data(data_filepath, value_keys)"
   ]
  },
  {
   "cell_type": "code",
   "execution_count": 37,
   "metadata": {},
   "outputs": [
    {
     "data": {
      "text/plain": [
       "973068132000.0"
      ]
     },
     "execution_count": 37,
     "metadata": {},
     "output_type": "execute_result"
    }
   ],
   "source": [
    "max_value"
   ]
  },
  {
   "cell_type": "code",
   "execution_count": 38,
   "metadata": {},
   "outputs": [
    {
     "data": {
      "text/plain": [
       "8753.968253968254"
      ]
     },
     "execution_count": 38,
     "metadata": {},
     "output_type": "execute_result"
    }
   ],
   "source": [
    "max_price"
   ]
  },
  {
   "cell_type": "code",
   "execution_count": 11,
   "metadata": {},
   "outputs": [],
   "source": [
    "filter_data = {}\n",
    "\n",
    "for ticker in data:\n",
    "    row_list = data[ticker]\n",
    "    if len(row_list) < 5:\n",
    "        continue\n",
    "    filter_data[ticker] = row_list"
   ]
  },
  {
   "cell_type": "code",
   "execution_count": 14,
   "metadata": {},
   "outputs": [],
   "source": [
    "tickers = list(filter_data.keys())"
   ]
  },
  {
   "cell_type": "code",
   "execution_count": 34,
   "metadata": {},
   "outputs": [
    {
     "name": "stdout",
     "output_type": "stream",
     "text": [
      "1504\n",
      "65\n",
      "65\n"
     ]
    }
   ],
   "source": [
    "random.seed(777)\n",
    "valid_percent = 0.04\n",
    "test_percent = 0.04\n",
    "\n",
    "tickers = sorted(tickers)\n",
    "random.shuffle(tickers)\n",
    "\n",
    "total_len = len(tickers)\n",
    "valid_len = int(total_len * valid_percent)\n",
    "test_len = int(total_len * test_percent)\n",
    "\n",
    "valid_tickers = tickers[:valid_len]\n",
    "test_tickers = tickers[valid_len:valid_len+test_len]\n",
    "train_tickers = tickers[valid_len+test_len:]\n",
    "\n",
    "valid_data = {}\n",
    "train_data = {}\n",
    "test_data = {}\n",
    "\n",
    "for ticker in valid_tickers:\n",
    "    valid_data[ticker] = filter_data[ticker]\n",
    "for ticker in test_tickers:\n",
    "    test_data[ticker] = filter_data[ticker]\n",
    "for ticker in train_tickers:\n",
    "    train_data[ticker] = filter_data[ticker]\n",
    "\n",
    "print(len(train_data))\n",
    "print(len(valid_data))\n",
    "print(len(test_data))"
   ]
  },
  {
   "cell_type": "code",
   "execution_count": 36,
   "metadata": {},
   "outputs": [],
   "source": [
    "with open(os.path.join(dataset_path, \"train_trace.pickle\"), \"wb\") as f:\n",
    "    pickle.dump(train_data, f)\n",
    "with open(os.path.join(dataset_path, \"valid_trace.pickle\"), \"wb\") as f:\n",
    "    pickle.dump(valid_data, f)\n",
    "with open(os.path.join(dataset_path, \"test_trace.pickle\"), \"wb\") as f:\n",
    "    pickle.dump(test_data, f)"
   ]
  },
  {
   "cell_type": "code",
   "execution_count": null,
   "metadata": {},
   "outputs": [],
   "source": []
  },
  {
   "cell_type": "code",
   "execution_count": null,
   "metadata": {},
   "outputs": [],
   "source": []
  }
 ],
 "metadata": {
  "kernelspec": {
   "display_name": "Python 3",
   "language": "python",
   "name": "python3"
  },
  "language_info": {
   "codemirror_mode": {
    "name": "ipython",
    "version": 3
   },
   "file_extension": ".py",
   "mimetype": "text/x-python",
   "name": "python",
   "nbconvert_exporter": "python",
   "pygments_lexer": "ipython3",
   "version": "3.7.4"
  }
 },
 "nbformat": 4,
 "nbformat_minor": 2
}
